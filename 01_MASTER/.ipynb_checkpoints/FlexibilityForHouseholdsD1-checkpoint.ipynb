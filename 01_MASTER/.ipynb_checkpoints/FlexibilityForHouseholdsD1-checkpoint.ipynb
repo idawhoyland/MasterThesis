{
 "cells": [
  {
   "cell_type": "code",
   "execution_count": 30,
   "id": "791fbcb5",
   "metadata": {},
   "outputs": [],
   "source": [
    "import pandas as pd\n",
    "\n",
    "\n",
    "df_consum = pd.read_csv('data_hourly.csv')\n",
    "df_experiment_days = pd.read_csv('experiment_days.csv')\n",
    "df_price_signals = pd.read_csv('price_signals.csv')\n"
   ]
  },
  {
   "cell_type": "code",
   "execution_count": 31,
   "id": "f956c472",
   "metadata": {},
   "outputs": [
    {
     "name": "stdout",
     "output_type": "stream",
     "text": [
      "       ID                  From        Date  Hour Participation_Phase  \\\n",
      "0  Exp_43  2020-02-01T00:00:00Z  2020-02-01     1             Phase_1   \n",
      "1  Exp_43  2020-02-01T01:00:00Z  2020-02-01     2             Phase_1   \n",
      "2  Exp_43  2020-02-01T02:00:00Z  2020-02-01     3             Phase_1   \n",
      "3  Exp_43  2020-02-01T03:00:00Z  2020-02-01     4             Phase_1   \n",
      "4  Exp_43  2020-02-01T04:00:00Z  2020-02-01     5             Phase_1   \n",
      "\n",
      "   Demand_kWh Price_signal  Experiment_price_NOK_kWh  Temperature  \\\n",
      "0       0.348          NaN                       NaN          7.6   \n",
      "1       0.589          NaN                       NaN          8.2   \n",
      "2       0.358          NaN                       NaN          8.4   \n",
      "3       0.582          NaN                       NaN          8.4   \n",
      "4       0.364          NaN                       NaN          8.2   \n",
      "\n",
      "   Temperature24  Temperature48  Temperature72  \n",
      "0            6.1            5.0            4.4  \n",
      "1            6.2            5.1            4.4  \n",
      "2            6.3            5.3            4.5  \n",
      "3            6.4            5.4            4.5  \n",
      "4            6.5            5.5            4.6  \n",
      "(13515600, 12)\n",
      "  Participation_Phase Price_signal        Date Group\n",
      "0             Phase_1         A_10  2020-02-13    H1\n",
      "1             Phase_1         A_10  2020-03-02    H1\n",
      "2             Phase_1          A_5  2020-02-14    H1\n",
      "3             Phase_1          A_5  2020-03-03    H1\n",
      "4             Phase_1         B_10  2020-03-04    H1\n",
      "(267, 4)\n",
      "  Price_signal Price_profile Price_level  Hour  Experiment_price_NOK_kWh\n",
      "0         A_10             A          10     1                      1.00\n",
      "1         A_10             A          10     2                      0.99\n",
      "2         A_10             A          10     3                      0.95\n",
      "3         A_10             A          10     4                      0.95\n",
      "4         A_10             A          10     5                      0.96\n",
      "(336, 5)\n",
      "4429\n"
     ]
    }
   ],
   "source": [
    "print(df_consum.head())\n",
    "print(df_consum.shape)\n",
    "\n",
    "print(df_experiment_days.head())\n",
    "print(df_experiment_days.shape)\n",
    "\n",
    "print(df_price_signals.head())\n",
    "print(df_price_signals.shape)\n",
    "#print(df_consum.loc[df_consum['ID'] == 'Exp_2'])\n",
    "\n",
    "#number of unique IDs is equal to the number of households\n",
    "num_unique_ids = df_consum['ID'].nunique()\n",
    "print(num_unique_ids)\n"
   ]
  },
  {
   "cell_type": "code",
   "execution_count": null,
   "id": "41c021ac",
   "metadata": {},
   "outputs": [],
   "source": [
    "#TODO\n",
    "\n",
    "#1. Calculate pricerespons, this gives an estimate of flexibility.\n",
    "#2. A value representing flexibility is included in the survey data as a target value\n",
    "#3. Check correlation between target value and the features(input variables)\n",
    "\n",
    "#BONUS\n",
    "\n",
    "#Clean the survey dataset\n",
    "#Check for different ML methods\n",
    "#Do the same for D2 and compare the results"
   ]
  }
 ],
 "metadata": {
  "kernelspec": {
   "display_name": "Python 3",
   "language": "python",
   "name": "python3"
  },
  "language_info": {
   "codemirror_mode": {
    "name": "ipython",
    "version": 3
   },
   "file_extension": ".py",
   "mimetype": "text/x-python",
   "name": "python",
   "nbconvert_exporter": "python",
   "pygments_lexer": "ipython3",
   "version": "3.8.8"
  }
 },
 "nbformat": 4,
 "nbformat_minor": 5
}
